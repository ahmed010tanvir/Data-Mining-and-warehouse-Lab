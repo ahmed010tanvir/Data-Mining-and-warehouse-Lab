{
  "nbformat": 4,
  "nbformat_minor": 0,
  "metadata": {
    "colab": {
      "provenance": []
    },
    "kernelspec": {
      "name": "python3",
      "display_name": "Python 3"
    },
    "language_info": {
      "name": "python"
    }
  },
  "cells": [
    {
      "cell_type": "markdown",
      "source": [
        "**Name:**Tanvir Ahmed Apu\n",
        "\n",
        "**Id:** 212 505 1045\n",
        "\n",
        "\n",
        "**Course Code:** CSE 426  \n",
        "**Course Title:** Data mining and warehouse Lab  \n",
        "**Section:** 8A\n",
        "\n",
        "**Department of Computer Science & Engineering**"
      ],
      "metadata": {
        "id": "Mlb30PVKByif"
      }
    },
    {
      "cell_type": "markdown",
      "source": [
        "**Step 1: Load Data & Create User-Movie Matrix**"
      ],
      "metadata": {
        "id": "jGXFshJd97qn"
      }
    },
    {
      "cell_type": "code",
      "execution_count": null,
      "metadata": {
        "id": "ecLfU29yXj7s"
      },
      "outputs": [],
      "source": [
        "import pandas as pd\n",
        "import numpy as np\n",
        "from scipy.spatial.distance import euclidean\n",
        "from sklearn.metrics.pairwise import cosine_similarity"
      ]
    },
    {
      "cell_type": "code",
      "source": [
        "# Mount Google Drive if running in Colab\n",
        "from google.colab import drive\n",
        "drive.mount('/content/drive')"
      ],
      "metadata": {
        "colab": {
          "base_uri": "https://localhost:8080/"
        },
        "id": "HYjZcslN5Tyz",
        "outputId": "1f5d0b93-9b53-4b08-cb3f-e29fa5abcb4f"
      },
      "execution_count": null,
      "outputs": [
        {
          "output_type": "stream",
          "name": "stdout",
          "text": [
            "Drive already mounted at /content/drive; to attempt to forcibly remount, call drive.mount(\"/content/drive\", force_remount=True).\n"
          ]
        }
      ]
    },
    {
      "cell_type": "code",
      "source": [
        "# Load datasets\n",
        "ratings_df = pd.read_csv(\"/content/drive/MyDrive/Data Mining and warehouse/Week-1/03 Recommendation System 2/ratings.csv\")\n",
        "movies_df = pd.read_csv(\"/content/drive/MyDrive/Data Mining and warehouse/Week-1/03 Recommendation System 2/movies.csv\")"
      ],
      "metadata": {
        "id": "s4G-D7Jh5XMz"
      },
      "execution_count": null,
      "outputs": []
    },
    {
      "cell_type": "code",
      "source": [
        "# Create User-Movie Matrix\n",
        "user_movie_matrix = ratings_df.pivot(index='userId', columns='movieId', values='rating').fillna(0)"
      ],
      "metadata": {
        "id": "qR57k43-5pDl"
      },
      "execution_count": null,
      "outputs": []
    },
    {
      "cell_type": "code",
      "source": [
        "# Compute average rating for each movie\n",
        "average_movie_ratings = ratings_df.groupby('movieId')['rating'].mean()"
      ],
      "metadata": {
        "id": "HA8LvJcL-vCf"
      },
      "execution_count": null,
      "outputs": []
    },
    {
      "cell_type": "code",
      "source": [
        "# Compute cosine similarity between movies\n",
        "movie_similarity_matrix = pd.DataFrame(\n",
        "    cosine_similarity(user_movie_matrix.T),\n",
        "    index=user_movie_matrix.columns,\n",
        "    columns=user_movie_matrix.columns\n",
        ")"
      ],
      "metadata": {
        "id": "S52ZJ-TwbPK2"
      },
      "execution_count": null,
      "outputs": []
    },
    {
      "cell_type": "markdown",
      "source": [
        "**Step 2: Find Similar Movies**"
      ],
      "metadata": {
        "id": "8K_48K2j-B7E"
      }
    },
    {
      "cell_type": "code",
      "source": [
        "def find_similar_movies(movie_title, top_n=5):\n",
        "    \"\"\"Finds the top N most similar movies to a given movie title.\"\"\"\n",
        "    movie_id = movies_df[movies_df['title'] == movie_title]['movieId'].values\n",
        "    if len(movie_id) == 0:\n",
        "        print(\"Movie not found.\")\n",
        "        return []\n",
        "\n",
        "    movie_id = movie_id[0]\n",
        "    # Get similarity scores\n",
        "    similar_movies = movie_similarity_matrix.loc[movie_id].sort_values(ascending=False)[1:top_n+1]\n",
        "    # Fetch movie titles\n",
        "    recommended_titles = movies_df[movies_df['movieId'].isin(similar_movies.index)]['title'].values\n",
        "    print(f\"\\nTop {top_n} movies similar to '{movie_title}':\")\n",
        "    for i, title in enumerate(recommended_titles):\n",
        "        print(f\"{i+1}. {title}\")\n",
        "\n",
        "    return recommended_titles"
      ],
      "metadata": {
        "id": "k4Zcpo2L-TR3"
      },
      "execution_count": null,
      "outputs": []
    },
    {
      "cell_type": "code",
      "source": [
        "find_similar_movies(\"Toy Story (1995)\", top_n=5)"
      ],
      "metadata": {
        "colab": {
          "base_uri": "https://localhost:8080/"
        },
        "id": "wslgqRMN-WoR",
        "outputId": "1b5e0fe1-565f-415f-d5b3-63bbc4b9fefe"
      },
      "execution_count": null,
      "outputs": [
        {
          "output_type": "stream",
          "name": "stdout",
          "text": [
            "\n",
            "Top 5 movies similar to 'Toy Story (1995)':\n",
            "1. Star Wars: Episode IV - A New Hope (1977)\n",
            "2. Forrest Gump (1994)\n",
            "3. Jurassic Park (1993)\n",
            "4. Independence Day (a.k.a. ID4) (1996)\n",
            "5. Toy Story 2 (1999)\n"
          ]
        },
        {
          "output_type": "execute_result",
          "data": {
            "text/plain": [
              "array(['Star Wars: Episode IV - A New Hope (1977)', 'Forrest Gump (1994)',\n",
              "       'Jurassic Park (1993)', 'Independence Day (a.k.a. ID4) (1996)',\n",
              "       'Toy Story 2 (1999)'], dtype=object)"
            ]
          },
          "metadata": {},
          "execution_count": 49
        }
      ]
    },
    {
      "cell_type": "markdown",
      "source": [
        "**Step 3: Generate Personalized Recommendations for a User**"
      ],
      "metadata": {
        "id": "1LVvkJTK_hO6"
      }
    },
    {
      "cell_type": "code",
      "source": [
        "def recommend_movies_for_user(target_user, top_n=10):\n",
        "    \"\"\"Generates personalized movie recommendations for a given user.\"\"\"\n",
        "\n",
        "    # Get movies rated by the user\n",
        "    user_ratings = user_movie_matrix.loc[target_user]\n",
        "    top_rated_movies = user_ratings[user_ratings > 0].sort_values(ascending=False)\n",
        "\n",
        "    print(f\"\\nTop-rated movies for user {target_user}:\")\n",
        "    for movie_id in top_rated_movies.index[:5]:  # Show top 5 highest-rated movies\n",
        "        movie_title = movies_df[movies_df['movieId'] == movie_id]['title'].values[0]\n",
        "        print(f\"- {movie_title} ({top_rated_movies[movie_id]}/5)\")\n",
        "\n",
        "    # Find unrated movies\n",
        "    unrated_movies = user_movie_matrix.columns[user_movie_matrix.loc[target_user] == 0]\n",
        "\n",
        "    # Generate recommendations\n",
        "    recommendations = {}\n",
        "\n",
        "    for movie in top_rated_movies.index:\n",
        "        similar_movies = movie_similarity_matrix.loc[movie].sort_values(ascending=False)\n",
        "\n",
        "        for similar_movie in similar_movies.index:\n",
        "            if similar_movie in unrated_movies:\n",
        "                similarity_score = similar_movies[similar_movie]\n",
        "                avg_rating = average_movie_ratings.get(similar_movie, 0)  # Get average rating\n",
        "\n",
        "                # Combine similarity and rating score\n",
        "                recommendations[similar_movie] = recommendations.get(similar_movie, 0) + (similarity_score * avg_rating)\n",
        "\n",
        "    # Sort recommendations by highest combined score\n",
        "    sorted_recommendations = sorted(recommendations.items(), key=lambda x: x[1], reverse=True)\n",
        "\n",
        "    # Display top recommended movies\n",
        "    print(f\"\\nTop {top_n} recommended movies for user {target_user}:\")\n",
        "    for movie_id, score in sorted_recommendations[:top_n]:\n",
        "        movie_title = movies_df[movies_df['movieId'] == movie_id]['title'].values\n",
        "        movie_title = movie_title[0] if len(movie_title) > 0 else \"Unknown Movie\"\n",
        "        print(f\"- {movie_title} (Score: {score:.2f})\")\n",
        "\n",
        "\n",
        "recommend_movies_for_user(target_user=45, top_n=10)\n"
      ],
      "metadata": {
        "colab": {
          "base_uri": "https://localhost:8080/"
        },
        "id": "9VbYV7aH_gHi",
        "outputId": "281c3fff-f924-4b06-fde7-5046274ee0a4"
      },
      "execution_count": null,
      "outputs": [
        {
          "output_type": "stream",
          "name": "stdout",
          "text": [
            "\n",
            "Top-rated movies for user 45:\n",
            "- Ocean's Thirteen (2007) (5.0/5)\n",
            "- Usual Suspects, The (1995) (5.0/5)\n",
            "- Pirates of the Caribbean: The Curse of the Black Pearl (2003) (5.0/5)\n",
            "- Finding Nemo (2003) (5.0/5)\n",
            "- Pulp Fiction (1994) (5.0/5)\n",
            "\n",
            "Top 10 recommended movies for user 45:\n",
            "- Reservoir Dogs (1992) (Score: 504.14)\n",
            "- Alien (1979) (Score: 470.26)\n",
            "- Shawshank Redemption, The (1994) (Score: 469.85)\n",
            "- Fargo (1996) (Score: 465.73)\n",
            "- Memento (2000) (Score: 461.27)\n",
            "- Seven (a.k.a. Se7en) (1995) (Score: 456.91)\n",
            "- Aliens (1986) (Score: 448.68)\n",
            "- Apocalypse Now (1979) (Score: 446.73)\n",
            "- Kill Bill: Vol. 1 (2003) (Score: 444.92)\n",
            "- Full Metal Jacket (1987) (Score: 444.45)\n"
          ]
        }
      ]
    }
  ]
}